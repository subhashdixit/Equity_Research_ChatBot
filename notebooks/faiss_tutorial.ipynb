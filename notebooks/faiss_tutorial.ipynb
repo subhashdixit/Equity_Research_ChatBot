{
 "cells": [
  {
   "cell_type": "markdown",
   "metadata": {},
   "source": [
    "# **<center>FAISS Tutorial</center>**"
   ]
  },
  {
   "cell_type": "code",
   "execution_count": 1,
   "id": "c9493399",
   "metadata": {
    "scrolled": false
   },
   "outputs": [],
   "source": [
    "# #Install Packages\n",
    "# !pip install faiss-cpu\n",
    "# !pip install sentence-transformers"
   ]
  },
  {
   "cell_type": "code",
   "execution_count": 2,
   "id": "c49be142",
   "metadata": {},
   "outputs": [],
   "source": [
    "# import necessary libraries\n",
    "import pandas as pd\n",
    "pd.set_option('display.max_colwidth', 100)"
   ]
  },
  {
   "cell_type": "code",
   "execution_count": 5,
   "id": "f5a30989",
   "metadata": {},
   "outputs": [
    {
     "name": "stdout",
     "output_type": "stream",
     "text": [
      "(8, 2)\n"
     ]
    },
    {
     "data": {
      "text/html": [
       "<div>\n",
       "<style scoped>\n",
       "    .dataframe tbody tr th:only-of-type {\n",
       "        vertical-align: middle;\n",
       "    }\n",
       "\n",
       "    .dataframe tbody tr th {\n",
       "        vertical-align: top;\n",
       "    }\n",
       "\n",
       "    .dataframe thead th {\n",
       "        text-align: right;\n",
       "    }\n",
       "</style>\n",
       "<table border=\"1\" class=\"dataframe\">\n",
       "  <thead>\n",
       "    <tr style=\"text-align: right;\">\n",
       "      <th></th>\n",
       "      <th>text</th>\n",
       "      <th>category</th>\n",
       "    </tr>\n",
       "  </thead>\n",
       "  <tbody>\n",
       "    <tr>\n",
       "      <th>0</th>\n",
       "      <td>Meditation and yoga can improve mental health</td>\n",
       "      <td>Health</td>\n",
       "    </tr>\n",
       "    <tr>\n",
       "      <th>1</th>\n",
       "      <td>Fruits, whole grains and vegetables helps control blood pressure</td>\n",
       "      <td>Health</td>\n",
       "    </tr>\n",
       "    <tr>\n",
       "      <th>2</th>\n",
       "      <td>These are the latest fashion trends for this week</td>\n",
       "      <td>Fashion</td>\n",
       "    </tr>\n",
       "    <tr>\n",
       "      <th>3</th>\n",
       "      <td>Vibrant color jeans for male are becoming a trend</td>\n",
       "      <td>Fashion</td>\n",
       "    </tr>\n",
       "    <tr>\n",
       "      <th>4</th>\n",
       "      <td>The concert starts at 7 PM tonight</td>\n",
       "      <td>Event</td>\n",
       "    </tr>\n",
       "    <tr>\n",
       "      <th>5</th>\n",
       "      <td>Navaratri dandiya program at Expo center in Mumbai this october</td>\n",
       "      <td>Event</td>\n",
       "    </tr>\n",
       "    <tr>\n",
       "      <th>6</th>\n",
       "      <td>Exciting vacation destinations for your next trip</td>\n",
       "      <td>Travel</td>\n",
       "    </tr>\n",
       "    <tr>\n",
       "      <th>7</th>\n",
       "      <td>Maldives and Srilanka are gaining popularity in terms of low budget vacation places</td>\n",
       "      <td>Travel</td>\n",
       "    </tr>\n",
       "  </tbody>\n",
       "</table>\n",
       "</div>"
      ],
      "text/plain": [
       "                                                                                  text  \\\n",
       "0                                        Meditation and yoga can improve mental health   \n",
       "1                     Fruits, whole grains and vegetables helps control blood pressure   \n",
       "2                                    These are the latest fashion trends for this week   \n",
       "3                                    Vibrant color jeans for male are becoming a trend   \n",
       "4                                                   The concert starts at 7 PM tonight   \n",
       "5                      Navaratri dandiya program at Expo center in Mumbai this october   \n",
       "6                                    Exciting vacation destinations for your next trip   \n",
       "7  Maldives and Srilanka are gaining popularity in terms of low budget vacation places   \n",
       "\n",
       "  category  \n",
       "0   Health  \n",
       "1   Health  \n",
       "2  Fashion  \n",
       "3  Fashion  \n",
       "4    Event  \n",
       "5    Event  \n",
       "6   Travel  \n",
       "7   Travel  "
      ]
     },
     "execution_count": 5,
     "metadata": {},
     "output_type": "execute_result"
    }
   ],
   "source": [
    "df = pd.read_csv(\"../data/sample_text.csv\")\n",
    "print(df.shape)\n",
    "df"
   ]
  },
  {
   "cell_type": "markdown",
   "id": "2d935944",
   "metadata": {},
   "source": [
    "#### **Step 1 : Create source embeddings for the text column**"
   ]
  },
  {
   "cell_type": "code",
   "execution_count": 7,
   "id": "cd04834b",
   "metadata": {},
   "outputs": [
    {
     "name": "stderr",
     "output_type": "stream",
     "text": [
      "d:\\Personal Files\\Projects\\Equity_Research_ChatBot\\venv\\lib\\site-packages\\tqdm\\auto.py:21: TqdmWarning: IProgress not found. Please update jupyter and ipywidgets. See https://ipywidgets.readthedocs.io/en/stable/user_install.html\n",
      "  from .autonotebook import tqdm as notebook_tqdm\n",
      ".gitattributes: 100%|██████████| 1.18k/1.18k [00:00<00:00, 392kB/s]\n",
      "1_Pooling/config.json: 100%|██████████| 190/190 [00:00<00:00, 63.3kB/s]\n",
      "README.md: 100%|██████████| 10.6k/10.6k [00:00<00:00, 2.60MB/s]\n",
      "config.json: 100%|██████████| 571/571 [00:00<00:00, 183kB/s]\n",
      "config_sentence_transformers.json: 100%|██████████| 116/116 [00:00<00:00, 37.5kB/s]\n",
      "data_config.json: 100%|██████████| 39.3k/39.3k [00:00<00:00, 202kB/s]\n",
      "pytorch_model.bin: 100%|██████████| 438M/438M [01:13<00:00, 5.94MB/s] \n",
      "sentence_bert_config.json: 100%|██████████| 53.0/53.0 [00:00<?, ?B/s]\n",
      "special_tokens_map.json: 100%|██████████| 239/239 [00:00<00:00, 79.7kB/s]\n",
      "tokenizer.json: 100%|██████████| 466k/466k [00:00<00:00, 780kB/s]\n",
      "tokenizer_config.json: 100%|██████████| 363/363 [00:00<00:00, 121kB/s]\n",
      "train_script.py: 100%|██████████| 13.1k/13.1k [00:00<00:00, 2.62MB/s]\n",
      "vocab.txt: 100%|██████████| 232k/232k [00:00<00:00, 19.3MB/s]\n",
      "modules.json: 100%|██████████| 349/349 [00:00<00:00, 58.2kB/s]\n"
     ]
    },
    {
     "name": "stdout",
     "output_type": "stream",
     "text": [
      "(8, 768)\n",
      "768\n"
     ]
    }
   ],
   "source": [
    "from sentence_transformers import SentenceTransformer\n",
    "encoder = SentenceTransformer(\"all-mpnet-base-v2\")\n",
    "vectors = encoder.encode(df.text)\n",
    "print(vectors.shape)\n",
    "dim = vectors.shape[1]\n",
    "print(dim)"
   ]
  },
  {
   "cell_type": "markdown",
   "id": "149e6b32",
   "metadata": {},
   "source": [
    "#### **Step 2 : Build a FAISS Index for vectors**"
   ]
  },
  {
   "cell_type": "code",
   "execution_count": 8,
   "id": "1033b6bd",
   "metadata": {},
   "outputs": [],
   "source": [
    "import faiss\n",
    "index = faiss.IndexFlatL2(dim)"
   ]
  },
  {
   "cell_type": "markdown",
   "id": "76ad509d",
   "metadata": {},
   "source": [
    "#### **Step 3 : Normalize the source vectors (as we are using L2 distance to measure similarity) and add to the index**"
   ]
  },
  {
   "cell_type": "code",
   "execution_count": 9,
   "id": "90b527fc",
   "metadata": {},
   "outputs": [
    {
     "name": "stdout",
     "output_type": "stream",
     "text": [
      "<faiss.swigfaiss.IndexFlatL2; proxy of <Swig Object of type 'faiss::IndexFlatL2 *' at 0x000002AE35A17CC0> >\n"
     ]
    }
   ],
   "source": [
    "index.add(vectors)\n",
    "print(index)"
   ]
  },
  {
   "cell_type": "markdown",
   "id": "6c42234c",
   "metadata": {},
   "source": [
    "#### **Step 4 : Encode search text using same encorder and normalize the output vector**"
   ]
  },
  {
   "cell_type": "code",
   "execution_count": 10,
   "id": "018faf33",
   "metadata": {},
   "outputs": [
    {
     "name": "stdout",
     "output_type": "stream",
     "text": [
      "(768,)\n",
      "(1, 768)\n"
     ]
    }
   ],
   "source": [
    "search_query = \"I want to buy a polo t-shirt\"\n",
    "# search_query = \"looking for places to visit during the holidays\"\n",
    "# search_query = \"An apple a day keeps the doctor away\"\n",
    "vec = encoder.encode(search_query)\n",
    "print(vec.shape)\n",
    "\n",
    "import numpy as np\n",
    "svec = np.array(vec).reshape(1,-1)\n",
    "print(svec.shape)\n",
    "\n",
    "# faiss.normalize_L2(svec)"
   ]
  },
  {
   "cell_type": "markdown",
   "id": "90c0cdd8",
   "metadata": {},
   "source": [
    "#### **Step 5: Search for similar vector in the FAISS index created**"
   ]
  },
  {
   "cell_type": "code",
   "execution_count": 15,
   "id": "3d5a0e69",
   "metadata": {},
   "outputs": [
    {
     "name": "stdout",
     "output_type": "stream",
     "text": [
      "[[1.384484  1.4039098]]\n",
      "[[3 2]]\n",
      "[[3, 2]]\n",
      "[3, 2]\n"
     ]
    }
   ],
   "source": [
    "distances, I = index.search(svec, k=2)\n",
    "print(distances)\n",
    "print(I)\n",
    "print(I.tolist())\n",
    "row_indices = I.tolist()[0]\n",
    "print(row_indices)\n"
   ]
  },
  {
   "cell_type": "code",
   "execution_count": 16,
   "id": "d856895d",
   "metadata": {
    "scrolled": true
   },
   "outputs": [
    {
     "name": "stdout",
     "output_type": "stream",
     "text": [
      "I want to buy a polo t-shirt\n"
     ]
    },
    {
     "data": {
      "text/html": [
       "<div>\n",
       "<style scoped>\n",
       "    .dataframe tbody tr th:only-of-type {\n",
       "        vertical-align: middle;\n",
       "    }\n",
       "\n",
       "    .dataframe tbody tr th {\n",
       "        vertical-align: top;\n",
       "    }\n",
       "\n",
       "    .dataframe thead th {\n",
       "        text-align: right;\n",
       "    }\n",
       "</style>\n",
       "<table border=\"1\" class=\"dataframe\">\n",
       "  <thead>\n",
       "    <tr style=\"text-align: right;\">\n",
       "      <th></th>\n",
       "      <th>text</th>\n",
       "      <th>category</th>\n",
       "    </tr>\n",
       "  </thead>\n",
       "  <tbody>\n",
       "    <tr>\n",
       "      <th>3</th>\n",
       "      <td>Vibrant color jeans for male are becoming a trend</td>\n",
       "      <td>Fashion</td>\n",
       "    </tr>\n",
       "    <tr>\n",
       "      <th>2</th>\n",
       "      <td>These are the latest fashion trends for this week</td>\n",
       "      <td>Fashion</td>\n",
       "    </tr>\n",
       "  </tbody>\n",
       "</table>\n",
       "</div>"
      ],
      "text/plain": [
       "                                                text category\n",
       "3  Vibrant color jeans for male are becoming a trend  Fashion\n",
       "2  These are the latest fashion trends for this week  Fashion"
      ]
     },
     "execution_count": 16,
     "metadata": {},
     "output_type": "execute_result"
    }
   ],
   "source": [
    "print(search_query)\n",
    "df.loc[row_indices]"
   ]
  },
  {
   "cell_type": "markdown",
   "id": "e066c78d",
   "metadata": {},
   "source": [
    "- You can see that the two results from the dataframe are similar to a search_query"
   ]
  },
  {
   "cell_type": "markdown",
   "metadata": {},
   "source": [
    "# **<center>THE END</center>**"
   ]
  }
 ],
 "metadata": {
  "kernelspec": {
   "display_name": "Python 3 (ipykernel)",
   "language": "python",
   "name": "python3"
  },
  "language_info": {
   "codemirror_mode": {
    "name": "ipython",
    "version": 3
   },
   "file_extension": ".py",
   "mimetype": "text/x-python",
   "name": "python",
   "nbconvert_exporter": "python",
   "pygments_lexer": "ipython3",
   "version": "3.9.18"
  }
 },
 "nbformat": 4,
 "nbformat_minor": 5
}
